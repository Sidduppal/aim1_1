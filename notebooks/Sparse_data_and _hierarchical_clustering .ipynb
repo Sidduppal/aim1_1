{
 "cells": [
  {
   "cell_type": "markdown",
   "metadata": {},
   "source": [
    "# Sparse data and heirarchical clustering"
   ]
  },
  {
   "cell_type": "code",
   "execution_count": 2,
   "metadata": {},
   "outputs": [
    {
     "name": "stdout",
     "output_type": "stream",
     "text": [
      "Cloning into 'pysparcl'...\n",
      "remote: Enumerating objects: 271, done.\u001b[K\n",
      "remote: Counting objects: 100% (36/36), done.\u001b[K\n",
      "remote: Compressing objects: 100% (22/22), done.\u001b[K\n",
      "remote: Total 271 (delta 15), reused 29 (delta 12), pack-reused 235\u001b[K\n",
      "Receiving objects: 100% (271/271), 583.11 KiB | 2.28 MiB/s, done.\n",
      "Resolving deltas: 100% (139/139), done.\n"
     ]
    }
   ],
   "source": [
    "!git clone https://github.com/tsurumeso/pysparcl.git"
   ]
  },
  {
   "cell_type": "code",
   "execution_count": 5,
   "metadata": {},
   "outputs": [
    {
     "name": "stdout",
     "output_type": "stream",
     "text": [
      "running install\n",
      "running bdist_egg\n",
      "running egg_info\n",
      "creating pysparcl.egg-info\n",
      "writing pysparcl.egg-info/PKG-INFO\n",
      "writing dependency_links to pysparcl.egg-info/dependency_links.txt\n",
      "writing requirements to pysparcl.egg-info/requires.txt\n",
      "writing top-level names to pysparcl.egg-info/top_level.txt\n",
      "writing manifest file 'pysparcl.egg-info/SOURCES.txt'\n",
      "package init file 'pysparcl/__init__.py' not found (or not a regular file)\n",
      "reading manifest file 'pysparcl.egg-info/SOURCES.txt'\n",
      "writing manifest file 'pysparcl.egg-info/SOURCES.txt'\n",
      "installing library code to build/bdist.macosx-10.9-x86_64/egg\n",
      "running install_lib\n",
      "running build_py\n",
      "creating build\n",
      "creating build/lib.macosx-10.9-x86_64-3.8\n",
      "creating build/lib.macosx-10.9-x86_64-3.8/pysparcl\n",
      "copying pysparcl/setup.py -> build/lib.macosx-10.9-x86_64-3.8/pysparcl\n",
      "running build_ext\n",
      "cythoning pysparcl/distfun.pyx to pysparcl/distfun.c\n",
      "error: /Users/sidd/Research/autometa_v2/aim1_1/cami/pysparcl/distfun.pyx\n"
     ]
    }
   ],
   "source": [
    "!cd pysparcl\n",
    "!python pysparcl/setup.py install"
   ]
  },
  {
   "cell_type": "code",
   "execution_count": null,
   "metadata": {},
   "outputs": [],
   "source": []
  },
  {
   "cell_type": "code",
   "execution_count": null,
   "metadata": {},
   "outputs": [],
   "source": []
  },
  {
   "cell_type": "code",
   "execution_count": null,
   "metadata": {},
   "outputs": [],
   "source": []
  }
 ],
 "metadata": {
  "kernelspec": {
   "display_name": "Python [conda env:soil]",
   "language": "python",
   "name": "conda-env-soil-py"
  },
  "language_info": {
   "codemirror_mode": {
    "name": "ipython",
    "version": 3
   },
   "file_extension": ".py",
   "mimetype": "text/x-python",
   "name": "python",
   "nbconvert_exporter": "python",
   "pygments_lexer": "ipython3",
   "version": "3.8.5"
  }
 },
 "nbformat": 4,
 "nbformat_minor": 4
}
